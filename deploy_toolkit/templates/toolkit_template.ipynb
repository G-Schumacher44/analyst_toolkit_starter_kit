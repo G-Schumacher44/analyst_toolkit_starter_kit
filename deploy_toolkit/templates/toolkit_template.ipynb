{
  "cells": [
    {
      "cell_type": "markdown",
      "metadata": {},
      "source": [
        "# Analyst Toolkit — Template\n",
        "\n",
        "This notebook runs the toolkit step-by-step using YAML configs in `config/`.\n",
        "Use `config/run_toolkit_config.yaml` to toggle modules on/off."
      ]
    },
    {
      "cell_type": "markdown",
      "metadata": {},
      "source": [
        "> TODO: Select your VS Code/Jupyter kernel.\n",
        "\n",
        "- Optionally set `python.defaultInterpreterPath` and `jupyter.kernelsFilter` in `.vscode/settings.json`.\n",
        "- Or comment those settings out to use your workspace defaults."
      ]
    },
    {
      "cell_type": "code",
      "execution_count": 1,
      "id": "63338023",
      "metadata": {},
      "outputs": [],
      "source": [
        "# Imports\n",
        "from analyst_toolkit.m00_utils.config_loader import load_config\n",
        "from analyst_toolkit.m00_utils.load_data import load_csv\n",
        "\n",
        "# Module runners (imported lazily below as needed)\n",
        "# Diagnostics\n",
        "from analyst_toolkit.m01_diagnostics import run_diag_pipeline\n",
        "# Validation\n",
        "from analyst_toolkit.m02_validation import run_validation_pipeline\n",
        "# Normalization\n",
        "from analyst_toolkit.m03_normalization import run_normalization_pipeline\n",
        "# Duplicates\n",
        "from analyst_toolkit.m04_duplicates import run_duplicates_pipeline\n",
        "# Outlier Detection\n",
        "from analyst_toolkit.m05_detect_outliers.run_detection_pipeline import run_outlier_detection_pipeline\n",
        "# Outlier Handling\n",
        "from analyst_toolkit.m06_outlier_handling import run_outlier_handling_pipeline\n",
        "# Imputation\n",
        "from analyst_toolkit.m07_imputation import run_imputation_pipeline\n",
        "# Final Audit\n",
        "from analyst_toolkit.m10_final_audit import run_final_audit_pipeline"
      ]
    },
    {
      "cell_type": "code",
      "execution_count": 2,
      "id": "51e46ee1",
      "metadata": {},
      "outputs": [
        {
          "name": "stdout",
          "output_type": "stream",
          "text": [
            "CWD: <repo>/notebooks\n",
            "ROOT: <repo>/.\n",
            "run_id: demo_01_ | notebook: True\n",
            "pipeline_entry_path: <repo>/data/raw/synthetic_penguins_v3.5.csv\n"
          ]
        }
      ],
      "source": [
        "# Paths and config loader helpers\n",
        "from pathlib import Path\n",
        "import os\n",
        "def find_project_root(markers=(\"config\",\"notebooks\")):\n",
        "    p = Path.cwd()\n",
        "    for cand in [p, *p.parents]:\n",
        "        if all((cand / m).exists() for m in markers):\n",
        "            return cand\n",
        "    return Path.cwd()\n",
        "\n",
        "# Safe path formatting to avoid leaking local absolute paths\n",
        "def format_path_safe(p, base=None):\n",
        "    p = Path(p)\n",
        "    if base is None:\n",
        "        try:\n",
        "            base = ROOT\n",
        "        except NameError:\n",
        "            base = find_project_root()\n",
        "    # Prefer path relative to project root\n",
        "    try:\n",
        "        rel = p.relative_to(base)\n",
        "        return f\"<repo>/{rel}\"\n",
        "    except Exception:\n",
        "        pass\n",
        "    # Otherwise redact the home directory\n",
        "    home = Path.home()\n",
        "    try:\n",
        "        rel_home = p.relative_to(home)\n",
        "        return f\"~/{rel_home}\"\n",
        "    except Exception:\n",
        "        return str(p)\n",
        "ROOT = find_project_root()\n",
        "def resolve(p):\n",
        "    p = Path(p)\n",
        "    return str(p) if p.is_absolute() else str(ROOT / p)\n",
        "print(\"CWD:\", format_path_safe(Path.cwd()))\n",
        "print(\"ROOT:\", format_path_safe(ROOT))\n",
        "\n",
        "# Load master run config\n",
        "RUN_CONFIG_PATH = resolve(\"config/run_toolkit_config.yaml\")\n",
        "cfg = load_config(RUN_CONFIG_PATH)\n",
        "run_id = cfg.get(\"run_id\", \"demo_run\")\n",
        "notebook_mode = cfg.get(\"notebook\", True)\n",
        "modules_cfg = cfg.get(\"modules\", {})\n",
        "print(f'run_id: {run_id} | notebook: {notebook_mode}')\n",
        "entry_path = cfg.get(\"pipeline_entry_path\")\n",
        "entry_path = resolve(entry_path) if entry_path else entry_path\n",
        "print(\"pipeline_entry_path:\", format_path_safe(entry_path) if entry_path else None)"
      ]
    },
    {
      "cell_type": "code",
      "execution_count": 3,
      "id": "a34f09a4",
      "metadata": {},
      "outputs": [
        {
          "name": "stdout",
          "output_type": "stream",
          "text": [
            "Loaded raw data from: <repo>/data/raw/synthetic_penguins_v3.5.csv\n"
          ]
        }
      ],
      "source": [
        "# Optional: Load raw data explicitly (if module configs don't specify)\n",
        "df = None\n",
        "if entry_path:\n",
        "    try:\n",
        "        df = load_csv(entry_path)\n",
        "        print(\"Loaded raw data from:\", format_path_safe(entry_path))\n",
        "    except Exception as e:\n",
        "        print(\"Could not load entry file:\", format_path_safe(entry_path))\n",
        "        print(\"Error:\", type(e).__name__)"
      ]
    },
    {
      "cell_type": "markdown",
      "id": "b657ad0a",
      "metadata": {},
      "source": [
        "## M01 — Diagnostics"
      ]
    },
    {
      "cell_type": "code",
      "execution_count": 4,
      "id": "cd31ba09",
      "metadata": {},
      "outputs": [
        {
          "name": "stdout",
          "output_type": "stream",
          "text": [
            "Running diagnostics...\n"
          ]
        },
        {
          "data": {
            "text/html": [
              "\n",
              "    <div style=\"border: 1px solid #d0d7de; background-color: #eef2f7; color: #24292e; padding: 12px; border-radius: 6px; margin-bottom: 20px;\">\n",
              "        <strong>Stage:</strong> M01 Data Diagnostics ✅ | \n",
              "        <strong>Columns with Nulls:</strong> 15 |\n",
              "        <strong>Duplicate Rows Found:</strong> 0.0 |\n",
              "        <strong>Shape:</strong> 5540 Rows, 15 Columns\n",
              "    </div>"
            ],
            "text/plain": [
              "<IPython.core.display.HTML object>"
            ]
          },
          "metadata": {},
          "output_type": "display_data"
        },
        {
          "data": {
            "text/html": [
              "\n",
              "    <details open><summary><strong>📈 Key Metrics</strong></summary>\n",
              "        <div style=\"display: flex; gap: 20px; margin-top: 1em; align-items: flex-start;\">\n",
              "            <div style=\"flex: 1;\">\n",
              "                <h4>🔷 Shape</h4>\n",
              "                <table border=\"1\" class=\"dataframe table table-striped\">\n",
              "  <thead>\n",
              "    <tr style=\"text-align: right;\">\n",
              "      <th>Rows</th>\n",
              "      <th>Columns</th>\n",
              "    </tr>\n",
              "  </thead>\n",
              "  <tbody>\n",
              "    <tr>\n",
              "      <td>5540</td>\n",
              "      <td>15</td>\n",
              "    </tr>\n",
              "  </tbody>\n",
              "</table>\n",
              "            </div>\n",
              "            <div style=\"flex: 1;\">\n",
              "                <h4>🧠 Memory Usage</h4>\n",
              "                <table border=\"1\" class=\"dataframe table table-striped\">\n",
              "  <thead>\n",
              "    <tr style=\"text-align: right;\">\n",
              "      <th>Memory Usage</th>\n",
              "    </tr>\n",
              "  </thead>\n",
              "  <tbody>\n",
              "    <tr>\n",
              "      <td>3.65 MB</td>\n",
              "    </tr>\n",
              "  </tbody>\n",
              "</table>\n",
              "            </div>\n",
              "            <div style=\"flex: 1;\">\n",
              "                <h4>♻️ Duplicate Summary</h4>\n",
              "                <table border=\"1\" class=\"dataframe table table-striped\">\n",
              "  <thead>\n",
              "    <tr style=\"text-align: right;\">\n",
              "      <th>Duplicate Rows</th>\n",
              "      <th>Duplicate %</th>\n",
              "    </tr>\n",
              "  </thead>\n",
              "  <tbody>\n",
              "    <tr>\n",
              "      <td>0</td>\n",
              "      <td>0.0</td>\n",
              "    </tr>\n",
              "  </tbody>\n",
              "</table>\n",
              "            </div>\n",
              "        </div>\n",
              "    </details>"
            ],
            "text/plain": [
              "<IPython.core.display.HTML object>"
            ]
          },
          "metadata": {},
          "output_type": "display_data"
        },
        {
          "data": {
            "text/html": [
              "\n",
              "    <details open><summary><strong>📝 Full Profile & Cardinality</strong></summary>\n",
              "        <div style=\"display: flex; gap: 20px; margin-top: 1em;\">\n",
              "            <div style=\"flex: 1;\">\n",
              "                <h4>🔢 High Cardinality</h4>\n",
              "                <table border=\"1\" class=\"dataframe table table-striped\">\n",
              "  <thead>\n",
              "    <tr style=\"text-align: right;\">\n",
              "      <th>Column</th>\n",
              "      <th>Unique Values</th>\n",
              "    </tr>\n",
              "  </thead>\n",
              "  <tbody>\n",
              "    <tr>\n",
              "      <td>tag_id</td>\n",
              "      <td>2678</td>\n",
              "    </tr>\n",
              "    <tr>\n",
              "      <td>capture_date</td>\n",
              "      <td>1917</td>\n",
              "    </tr>\n",
              "    <tr>\n",
              "      <td>date_egg</td>\n",
              "      <td>1656</td>\n",
              "    </tr>\n",
              "    <tr>\n",
              "      <td>colony_id</td>\n",
              "      <td>19</td>\n",
              "    </tr>\n",
              "    <tr>\n",
              "      <td>study_name</td>\n",
              "      <td>12</td>\n",
              "    </tr>\n",
              "    <tr>\n",
              "      <td>island</td>\n",
              "      <td>11</td>\n",
              "    </tr>\n",
              "  </tbody>\n",
              "</table>\n",
              "                \n",
              "    <div style=\"margin-top: 15px; padding: 10px; border: 1px solid #d0d7de; border-radius: 6px; font-size: 0.9em; background-color: #eef2f7; color: #24292e;\">\n",
              "        <strong style=\"display: block; margin-bottom: 5px;\">Audit Remarks Key:</strong>\n",
              "        <ul style=\"margin: 0 0 0 20px; padding: 0;\">\n",
              "            <li><strong>✅ OK:</strong> Passed all configured quality checks.</li>\n",
              "            <li><strong>⚠️ High Skew:</strong> Skewness exceeds the configured threshold.</li>\n",
              "            <li><strong>⚠️ Unexpected Type:</strong> Data type does not match the expected type.</li>\n",
              "        </ul>\n",
              "    </div>\n",
              "    \n",
              "            </div>\n",
              "            <div style=\"flex: 3;\">\n",
              "                <h4>📚 Full Data Profile</h4>\n",
              "                <table border=\"1\" class=\"dataframe table table-striped\">\n",
              "  <thead>\n",
              "    <tr style=\"text-align: right;\">\n",
              "      <th>Column</th>\n",
              "      <th>Dtype</th>\n",
              "      <th>Unique Values</th>\n",
              "      <th>Audit Remarks</th>\n",
              "      <th>Missing Count</th>\n",
              "      <th>Missing %</th>\n",
              "    </tr>\n",
              "  </thead>\n",
              "  <tbody>\n",
              "    <tr>\n",
              "      <td>tag_id</td>\n",
              "      <td>object</td>\n",
              "      <td>2678</td>\n",
              "      <td>✅ OK</td>\n",
              "      <td>2241</td>\n",
              "      <td>40.45</td>\n",
              "    </tr>\n",
              "    <tr>\n",
              "      <td>species</td>\n",
              "      <td>object</td>\n",
              "      <td>5</td>\n",
              "      <td>✅ OK</td>\n",
              "      <td>166</td>\n",
              "      <td>3.00</td>\n",
              "    </tr>\n",
              "    <tr>\n",
              "      <td>bill_length_mm</td>\n",
              "      <td>float64</td>\n",
              "      <td>1984</td>\n",
              "      <td>✅ OK</td>\n",
              "      <td>429</td>\n",
              "      <td>7.74</td>\n",
              "    </tr>\n",
              "    <tr>\n",
              "      <td>bill_depth_mm</td>\n",
              "      <td>float64</td>\n",
              "      <td>862</td>\n",
              "      <td>✅ OK</td>\n",
              "      <td>417</td>\n",
              "      <td>7.53</td>\n",
              "    </tr>\n",
              "    <tr>\n",
              "      <td>flipper_length_mm</td>\n",
              "      <td>float64</td>\n",
              "      <td>1466</td>\n",
              "      <td>✅ OK</td>\n",
              "      <td>451</td>\n",
              "      <td>8.14</td>\n",
              "    </tr>\n",
              "    <tr>\n",
              "      <td>body_mass_g</td>\n",
              "      <td>float64</td>\n",
              "      <td>3328</td>\n",
              "      <td>✅ OK</td>\n",
              "      <td>406</td>\n",
              "      <td>7.33</td>\n",
              "    </tr>\n",
              "    <tr>\n",
              "      <td>age_group</td>\n",
              "      <td>object</td>\n",
              "      <td>7</td>\n",
              "      <td>✅ OK</td>\n",
              "      <td>121</td>\n",
              "      <td>2.18</td>\n",
              "    </tr>\n",
              "    <tr>\n",
              "      <td>sex</td>\n",
              "      <td>object</td>\n",
              "      <td>6</td>\n",
              "      <td>✅ OK</td>\n",
              "      <td>2739</td>\n",
              "      <td>49.44</td>\n",
              "    </tr>\n",
              "    <tr>\n",
              "      <td>colony_id</td>\n",
              "      <td>object</td>\n",
              "      <td>19</td>\n",
              "      <td>✅ OK</td>\n",
              "      <td>405</td>\n",
              "      <td>7.31</td>\n",
              "    </tr>\n",
              "    <tr>\n",
              "      <td>island</td>\n",
              "      <td>object</td>\n",
              "      <td>11</td>\n",
              "      <td>✅ OK</td>\n",
              "      <td>584</td>\n",
              "      <td>10.54</td>\n",
              "    </tr>\n",
              "    <tr>\n",
              "      <td>capture_date</td>\n",
              "      <td>object</td>\n",
              "      <td>1917</td>\n",
              "      <td>✅ OK</td>\n",
              "      <td>534</td>\n",
              "      <td>9.64</td>\n",
              "    </tr>\n",
              "    <tr>\n",
              "      <td>health_status</td>\n",
              "      <td>object</td>\n",
              "      <td>9</td>\n",
              "      <td>✅ OK</td>\n",
              "      <td>553</td>\n",
              "      <td>9.98</td>\n",
              "    </tr>\n",
              "    <tr>\n",
              "      <td>study_name</td>\n",
              "      <td>object</td>\n",
              "      <td>12</td>\n",
              "      <td>✅ OK</td>\n",
              "      <td>563</td>\n",
              "      <td>10.16</td>\n",
              "    </tr>\n",
              "    <tr>\n",
              "      <td>clutch_completion</td>\n",
              "      <td>object</td>\n",
              "      <td>2</td>\n",
              "      <td>✅ OK</td>\n",
              "      <td>463</td>\n",
              "      <td>8.36</td>\n",
              "    </tr>\n",
              "    <tr>\n",
              "      <td>date_egg</td>\n",
              "      <td>object</td>\n",
              "      <td>1656</td>\n",
              "      <td>✅ OK</td>\n",
              "      <td>836</td>\n",
              "      <td>15.09</td>\n",
              "    </tr>\n",
              "  </tbody>\n",
              "</table>\n",
              "            </div>\n",
              "        </div>\n",
              "    </details>"
            ],
            "text/plain": [
              "<IPython.core.display.HTML object>"
            ]
          },
          "metadata": {},
          "output_type": "display_data"
        },
        {
          "data": {
            "text/html": [
              "<details><summary><strong>🔬 Quantitative Summary</strong></summary><div style='margin-top: 1em;'><h4>🔢 Descriptive Statistics</h4><table border=\"1\" class=\"dataframe table table-striped\">\n",
              "  <thead>\n",
              "    <tr style=\"text-align: right;\">\n",
              "      <th>Metric</th>\n",
              "      <th>count</th>\n",
              "      <th>mean</th>\n",
              "      <th>std</th>\n",
              "      <th>min</th>\n",
              "      <th>25%</th>\n",
              "      <th>50%</th>\n",
              "      <th>75%</th>\n",
              "      <th>max</th>\n",
              "      <th>skew</th>\n",
              "      <th>kurtosis</th>\n",
              "    </tr>\n",
              "  </thead>\n",
              "  <tbody>\n",
              "    <tr>\n",
              "      <td>bill_length_mm</td>\n",
              "      <td>5111.0</td>\n",
              "      <td>45.165934</td>\n",
              "      <td>5.666712</td>\n",
              "      <td>30.63</td>\n",
              "      <td>40.510</td>\n",
              "      <td>45.95</td>\n",
              "      <td>49.3600</td>\n",
              "      <td>62.64</td>\n",
              "      <td>-0.145621</td>\n",
              "      <td>-0.606988</td>\n",
              "    </tr>\n",
              "    <tr>\n",
              "      <td>bill_depth_mm</td>\n",
              "      <td>5123.0</td>\n",
              "      <td>17.306000</td>\n",
              "      <td>2.231266</td>\n",
              "      <td>12.37</td>\n",
              "      <td>15.495</td>\n",
              "      <td>17.49</td>\n",
              "      <td>19.0300</td>\n",
              "      <td>23.01</td>\n",
              "      <td>-0.111777</td>\n",
              "      <td>-0.896914</td>\n",
              "    </tr>\n",
              "    <tr>\n",
              "      <td>flipper_length_mm</td>\n",
              "      <td>5089.0</td>\n",
              "      <td>202.234132</td>\n",
              "      <td>14.341644</td>\n",
              "      <td>162.79</td>\n",
              "      <td>191.100</td>\n",
              "      <td>199.31</td>\n",
              "      <td>214.1000</td>\n",
              "      <td>252.40</td>\n",
              "      <td>0.329565</td>\n",
              "      <td>-0.615484</td>\n",
              "    </tr>\n",
              "    <tr>\n",
              "      <td>body_mass_g</td>\n",
              "      <td>5134.0</td>\n",
              "      <td>3853.248624</td>\n",
              "      <td>897.870628</td>\n",
              "      <td>2376.56</td>\n",
              "      <td>3219.250</td>\n",
              "      <td>3742.00</td>\n",
              "      <td>4376.2025</td>\n",
              "      <td>7378.33</td>\n",
              "      <td>0.616697</td>\n",
              "      <td>0.087967</td>\n",
              "    </tr>\n",
              "  </tbody>\n",
              "</table></div></details>"
            ],
            "text/plain": [
              "<IPython.core.display.HTML object>"
            ]
          },
          "metadata": {},
          "output_type": "display_data"
        },
        {
          "data": {
            "text/html": [
              "<details><summary><strong>📄 Preview of Duplicated Rows</strong></summary><div style='margin-top: 1em;'><p><em>No data available.</em></p></div></details>"
            ],
            "text/plain": [
              "<IPython.core.display.HTML object>"
            ]
          },
          "metadata": {},
          "output_type": "display_data"
        },
        {
          "data": {
            "text/html": [
              "<details><summary><strong>🔍 First Rows Preview</strong></summary><div style='margin-top: 1em;'><h4>📋 First 5 Rows (.head)</h4><table border=\"1\" class=\"dataframe table table-striped\">\n",
              "  <thead>\n",
              "    <tr style=\"text-align: right;\">\n",
              "      <th>tag_id</th>\n",
              "      <th>species</th>\n",
              "      <th>bill_length_mm</th>\n",
              "      <th>bill_depth_mm</th>\n",
              "      <th>flipper_length_mm</th>\n",
              "      <th>body_mass_g</th>\n",
              "      <th>age_group</th>\n",
              "      <th>sex</th>\n",
              "      <th>colony_id</th>\n",
              "      <th>island</th>\n",
              "      <th>capture_date</th>\n",
              "      <th>health_status</th>\n",
              "      <th>study_name</th>\n",
              "      <th>clutch_completion</th>\n",
              "      <th>date_egg</th>\n",
              "    </tr>\n",
              "  </thead>\n",
              "  <tbody>\n",
              "    <tr>\n",
              "      <td>NaN</td>\n",
              "      <td>Gentoo</td>\n",
              "      <td>48.99</td>\n",
              "      <td>14.11</td>\n",
              "      <td>220.9</td>\n",
              "      <td>5890.0</td>\n",
              "      <td>Adult</td>\n",
              "      <td>Male</td>\n",
              "      <td>Torgersen North</td>\n",
              "      <td>Torgersen</td>\n",
              "      <td>2023-11-17</td>\n",
              "      <td>NaN</td>\n",
              "      <td>PAPRI2023</td>\n",
              "      <td>Yes</td>\n",
              "      <td>2023-11-09</td>\n",
              "    </tr>\n",
              "    <tr>\n",
              "      <td>ADE-0001</td>\n",
              "      <td>Adelie</td>\n",
              "      <td>39.55</td>\n",
              "      <td>19.92</td>\n",
              "      <td>186.2</td>\n",
              "      <td>2500.0</td>\n",
              "      <td>Chick</td>\n",
              "      <td>Male</td>\n",
              "      <td>Biscoe West</td>\n",
              "      <td>Biscoe</td>\n",
              "      <td>2024-13-03</td>\n",
              "      <td>Underweight</td>\n",
              "      <td>PAPRI2022</td>\n",
              "      <td>Yes</td>\n",
              "      <td>2022-07-20</td>\n",
              "    </tr>\n",
              "    <tr>\n",
              "      <td>NaN</td>\n",
              "      <td>Gentoo</td>\n",
              "      <td>48.23</td>\n",
              "      <td>13.00</td>\n",
              "      <td>NaN</td>\n",
              "      <td>4536.0</td>\n",
              "      <td>Adult</td>\n",
              "      <td>Female</td>\n",
              "      <td>Biscoe West</td>\n",
              "      <td>NaN</td>\n",
              "      <td>2024-04-14</td>\n",
              "      <td>Healthy</td>\n",
              "      <td>NaN</td>\n",
              "      <td>Yes</td>\n",
              "      <td>2024-04-12</td>\n",
              "    </tr>\n",
              "    <tr>\n",
              "      <td>GEN-0001</td>\n",
              "      <td>Gentoo</td>\n",
              "      <td>46.22</td>\n",
              "      <td>13.91</td>\n",
              "      <td>212.8</td>\n",
              "      <td>2500.0</td>\n",
              "      <td>Juvenile</td>\n",
              "      <td>Female</td>\n",
              "      <td>Dream South</td>\n",
              "      <td>Dream</td>\n",
              "      <td>NaN</td>\n",
              "      <td>Underweight</td>\n",
              "      <td>PAPRI2020</td>\n",
              "      <td>Yes</td>\n",
              "      <td>2020-04-14</td>\n",
              "    </tr>\n",
              "    <tr>\n",
              "      <td>NaN</td>\n",
              "      <td>Chinstrap</td>\n",
              "      <td>49.02</td>\n",
              "      <td>16.22</td>\n",
              "      <td>192.2</td>\n",
              "      <td>3735.0</td>\n",
              "      <td>Adult</td>\n",
              "      <td>NaN</td>\n",
              "      <td>Biscoe West</td>\n",
              "      <td>Biscoe</td>\n",
              "      <td>2022-10-03</td>\n",
              "      <td>Healthy</td>\n",
              "      <td>PAPRI2022</td>\n",
              "      <td>Yes</td>\n",
              "      <td>2022-10-02</td>\n",
              "    </tr>\n",
              "  </tbody>\n",
              "</table></div></details>"
            ],
            "text/plain": [
              "<IPython.core.display.HTML object>"
            ]
          },
          "metadata": {},
          "output_type": "display_data"
        },
        {
          "data": {
            "application/vnd.jupyter.widget-view+json": {
              "model_id": "0ea5df475a2b488b846ad9ea34abeba6",
              "version_major": 2,
              "version_minor": 0
            },
            "text/plain": [
              "Accordion(children=(VBox(children=(HTML(value=\"<h3 style='margin-top:10px'>Visual Profile</h3>\"), HBox(childre…"
            ]
          },
          "metadata": {},
          "output_type": "display_data"
        }
      ],
      "source": [
        "if modules_cfg.get('diagnostics', {}).get('run', False):\n",
        "    diag_cfg_path = modules_cfg['diagnostics'].get('config_path', 'config/diag_config_template.yaml')\n",
        "    diag_all = load_config(resolve(diag_cfg_path))\n",
        "    diag_cfg = diag_all.get('diagnostics', {})\n",
        "    print(\"Running diagnostics...\")\n",
        "    df = run_diag_pipeline(df=df, config=diag_cfg, notebook=notebook_mode, run_id=run_id)\n",
        "else:\n",
        "    print(\"Skipping diagnostics.\")"
      ]
    },
    {
      "cell_type": "markdown",
      "id": "d1bab576",
      "metadata": {},
      "source": [
        "## M02 — Validation"
      ]
    },
    {
      "cell_type": "code",
      "execution_count": 5,
      "id": "06ccbe37",
      "metadata": {},
      "outputs": [
        {
          "name": "stdout",
          "output_type": "stream",
          "text": [
            "Running validation...\n"
          ]
        },
        {
          "data": {
            "text/html": [
              "\n",
              "    <div style=\"border: 1px solid #d0d7de; background-color: #eef2f7; color: #24292e; padding: 12px; border-radius: 6px; margin-bottom: 20px;\">\n",
              "        <strong>Stage:</strong> M02 Data Validation ⚠️ | \n",
              "        <strong>Checks Passed:</strong> 3/4 |\n",
              "        <strong>Row Coverage:</strong> 100.0%\n",
              "    </div>"
            ],
            "text/plain": [
              "<IPython.core.display.HTML object>"
            ]
          },
          "metadata": {},
          "output_type": "display_data"
        },
        {
          "data": {
            "text/html": [
              "<details open><summary><strong>🔎 Validation Rules Summary</strong></summary><div style=\"margin-top: 1em;\"><table border=\"1\" class=\"dataframe table table-striped\">\n",
              "  <thead>\n",
              "    <tr style=\"text-align: right;\">\n",
              "      <th>Validation Rule</th>\n",
              "      <th>Description</th>\n",
              "      <th>Status</th>\n",
              "    </tr>\n",
              "  </thead>\n",
              "  <tbody>\n",
              "    <tr>\n",
              "      <td>Schema Conformity</td>\n",
              "      <td>Verify column names match the expected schema.</td>\n",
              "      <td>⚠️ Fail (2 issues)</td>\n",
              "    </tr>\n",
              "    <tr>\n",
              "      <td>Dtype Enforcement</td>\n",
              "      <td>Verify column data types match expectations.</td>\n",
              "      <td>✅ Pass</td>\n",
              "    </tr>\n",
              "    <tr>\n",
              "      <td>Categorical Values</td>\n",
              "      <td>Verify values in categorical columns are within an allowed set.</td>\n",
              "      <td>✅ Pass</td>\n",
              "    </tr>\n",
              "    <tr>\n",
              "      <td>Numeric Ranges</td>\n",
              "      <td>Verify values in numeric columns are within a defined range.</td>\n",
              "      <td>✅ Pass</td>\n",
              "    </tr>\n",
              "  </tbody>\n",
              "</table>\n",
              "    <div style=\"margin-top: 15px; padding: 10px; border: 1px solid #d0d7de; border-radius: 6px; font-size: 0.9em; background-color: #eef2f7; color: #24292e;\"><strong style=\"display: block; margin-bottom: 5px;\">Status Key:</strong>\n",
              "        <ul style=\"margin: 0 0 0 20px; padding: 0;\">\n",
              "            <li><strong>✅ Pass:</strong> The data conforms to this rule.</li>\n",
              "            <li><strong>⚠️ Fail:</strong> One or more issues were found. See drill-down for details.</li>\n",
              "        </ul>\n",
              "    </div></div></details>"
            ],
            "text/plain": [
              "<IPython.core.display.HTML object>"
            ]
          },
          "metadata": {},
          "output_type": "display_data"
        },
        {
          "data": {
            "text/html": [
              "<div><h3 style=\"margin-top: 20px;\">Failure Details</h3>\n",
              "            <details><summary><strong>⚠️ Drill-Down: Schema Conformity(click to expand & scroll)</strong></summary>\n",
              "                <div style=\"max-height: 400px; overflow-y: auto; margin-top: 1em; padding: 10px; border-top: 1px solid #eee;\">\n",
              "                    <table border=\"1\" class=\"dataframe table table-striped\">\n",
              "  <thead>\n",
              "    <tr style=\"text-align: right;\">\n",
              "      <th>Issue Type</th>\n",
              "      <th>Columns</th>\n",
              "    </tr>\n",
              "  </thead>\n",
              "  <tbody>\n",
              "    <tr>\n",
              "      <td>Missing</td>\n",
              "      <td>example</td>\n",
              "    </tr>\n",
              "    <tr>\n",
              "      <td>Unexpected</td>\n",
              "      <td>species, island, flipper_length_mm, body_mass_g, bill_depth_mm, tag_id, health_status, clutch_completion, date_egg, capture_date, colony_id, sex, study_name, bill_length_mm, age_group</td>\n",
              "    </tr>\n",
              "  </tbody>\n",
              "</table>\n",
              "                </div>\n",
              "            </details></div>"
            ],
            "text/plain": [
              "<IPython.core.display.HTML object>"
            ]
          },
          "metadata": {},
          "output_type": "display_data"
        }
      ],
      "source": [
        "if modules_cfg.get('validation', {}).get('run', False):\n",
        "    val_cfg_path = modules_cfg['validation'].get('config_path', 'config/validation_config_template.yaml')\n",
        "    val_all = load_config(resolve(val_cfg_path))\n",
        "    val_cfg = val_all.get('validation', {})\n",
        "    print(\"Running validation...\")\n",
        "    df = run_validation_pipeline(df=df, config=val_cfg, notebook=notebook_mode, run_id=run_id)\n",
        "else:\n",
        "    print(\"Skipping validation.\")"
      ]
    },
    {
      "cell_type": "markdown",
      "id": "b77d873b",
      "metadata": {},
      "source": [
        "## M03 — Normalization"
      ]
    },
    {
      "cell_type": "code",
      "execution_count": 6,
      "id": "68a155c7",
      "metadata": {},
      "outputs": [
        {
          "name": "stdout",
          "output_type": "stream",
          "text": [
            "Running normalization...\n"
          ]
        },
        {
          "ename": "KeyError",
          "evalue": "'column'",
          "output_type": "error",
          "traceback": [
            "\u001b[0;31m---------------------------------------------------------------------------\u001b[0m",
            "\u001b[0;31mKeyError\u001b[0m                                  Traceback (most recent call last)",
            "Cell \u001b[0;32mIn[6], line 6\u001b[0m\n\u001b[1;32m      4\u001b[0m     norm_cfg \u001b[38;5;241m=\u001b[39m norm_all\u001b[38;5;241m.\u001b[39mget(\u001b[38;5;124m'\u001b[39m\u001b[38;5;124mnormalization\u001b[39m\u001b[38;5;124m'\u001b[39m, {})\n\u001b[1;32m      5\u001b[0m     \u001b[38;5;28mprint\u001b[39m(\u001b[38;5;124m\"\u001b[39m\u001b[38;5;124mRunning normalization...\u001b[39m\u001b[38;5;124m\"\u001b[39m)\n\u001b[0;32m----> 6\u001b[0m     df \u001b[38;5;241m=\u001b[39m \u001b[43mrun_normalization_pipeline\u001b[49m\u001b[43m(\u001b[49m\u001b[43mdf\u001b[49m\u001b[38;5;241;43m=\u001b[39;49m\u001b[43mdf\u001b[49m\u001b[43m,\u001b[49m\u001b[43m \u001b[49m\u001b[43mconfig\u001b[49m\u001b[38;5;241;43m=\u001b[39;49m\u001b[43mnorm_cfg\u001b[49m\u001b[43m,\u001b[49m\u001b[43m \u001b[49m\u001b[43mnotebook\u001b[49m\u001b[38;5;241;43m=\u001b[39;49m\u001b[43mnotebook_mode\u001b[49m\u001b[43m,\u001b[49m\u001b[43m \u001b[49m\u001b[43mrun_id\u001b[49m\u001b[38;5;241;43m=\u001b[39;49m\u001b[43mrun_id\u001b[49m\u001b[43m)\u001b[49m\n\u001b[1;32m      7\u001b[0m \u001b[38;5;28;01melse\u001b[39;00m:\n\u001b[1;32m      8\u001b[0m     \u001b[38;5;28mprint\u001b[39m(\u001b[38;5;124m\"\u001b[39m\u001b[38;5;124mSkipping normalization.\u001b[39m\u001b[38;5;124m\"\u001b[39m)\n",
            "File \u001b[0;32m/opt/anaconda3/envs/dirty_birds_eda/lib/python3.10/site-packages/analyst_toolkit/m03_normalization/run_normalization_pipeline.py:62\u001b[0m, in \u001b[0;36mrun_normalization_pipeline\u001b[0;34m(config, notebook, df, run_id)\u001b[0m\n\u001b[1;32m     59\u001b[0m df_original, df_normalized, changelog \u001b[38;5;241m=\u001b[39m apply_normalization(df, rules)\n\u001b[1;32m     61\u001b[0m settings \u001b[38;5;241m=\u001b[39m module_cfg\u001b[38;5;241m.\u001b[39mget(\u001b[38;5;124m\"\u001b[39m\u001b[38;5;124msettings\u001b[39m\u001b[38;5;124m\"\u001b[39m, {})\n\u001b[0;32m---> 62\u001b[0m report_tables \u001b[38;5;241m=\u001b[39m \u001b[43mgenerate_transformation_report\u001b[49m\u001b[43m(\u001b[49m\n\u001b[1;32m     63\u001b[0m \u001b[43m    \u001b[49m\u001b[43mdf_original\u001b[49m\u001b[38;5;241;43m=\u001b[39;49m\u001b[43mdf_original\u001b[49m\u001b[43m,\u001b[49m\u001b[43m \u001b[49m\u001b[43mdf_transformed\u001b[49m\u001b[38;5;241;43m=\u001b[39;49m\u001b[43mdf_normalized\u001b[49m\u001b[43m,\u001b[49m\n\u001b[1;32m     64\u001b[0m \u001b[43m    \u001b[49m\u001b[43mchangelog\u001b[49m\u001b[38;5;241;43m=\u001b[39;49m\u001b[43mchangelog\u001b[49m\u001b[43m,\u001b[49m\u001b[43m \u001b[49m\u001b[43mmodule_name\u001b[49m\u001b[38;5;241;43m=\u001b[39;49m\u001b[38;5;124;43m\"\u001b[39;49m\u001b[38;5;124;43mnormalization\u001b[39;49m\u001b[38;5;124;43m\"\u001b[39;49m\u001b[43m,\u001b[49m\u001b[43m \u001b[49m\u001b[43mrun_id\u001b[49m\u001b[38;5;241;43m=\u001b[39;49m\u001b[43mrun_id\u001b[49m\u001b[43m,\u001b[49m\n\u001b[1;32m     65\u001b[0m \u001b[43m    \u001b[49m\u001b[43mexport_config\u001b[49m\u001b[38;5;241;43m=\u001b[39;49m\u001b[43msettings\u001b[49m\n\u001b[1;32m     66\u001b[0m \u001b[43m\u001b[49m\u001b[43m)\u001b[49m\n\u001b[1;32m     68\u001b[0m \u001b[38;5;28;01mif\u001b[39;00m settings\u001b[38;5;241m.\u001b[39mget(\u001b[38;5;124m\"\u001b[39m\u001b[38;5;124mshow_inline\u001b[39m\u001b[38;5;124m\"\u001b[39m, \u001b[38;5;28;01mTrue\u001b[39;00m) \u001b[38;5;129;01mand\u001b[39;00m notebook:\n\u001b[1;32m     69\u001b[0m     display_normalization_summary(changelog, df_original, df_normalized, rules)\n",
            "File \u001b[0;32m/opt/anaconda3/envs/dirty_birds_eda/lib/python3.10/site-packages/analyst_toolkit/m00_utils/report_generator.py:82\u001b[0m, in \u001b[0;36mgenerate_transformation_report\u001b[0;34m(df_original, df_transformed, changelog, module_name, run_id, export_config)\u001b[0m\n\u001b[1;32m     79\u001b[0m report_tables[\u001b[38;5;124m\"\u001b[39m\u001b[38;5;124mdiff_table\u001b[39m\u001b[38;5;124m\"\u001b[39m] \u001b[38;5;241m=\u001b[39m pd\u001b[38;5;241m.\u001b[39mDataFrame(diff_table)\n\u001b[1;32m     81\u001b[0m \u001b[38;5;66;03m# 3. Column-wise change summary\u001b[39;00m\n\u001b[0;32m---> 82\u001b[0m col_change_summary \u001b[38;5;241m=\u001b[39m \u001b[43mreport_tables\u001b[49m\u001b[43m[\u001b[49m\u001b[38;5;124;43m\"\u001b[39;49m\u001b[38;5;124;43mdiff_table\u001b[39;49m\u001b[38;5;124;43m\"\u001b[39;49m\u001b[43m]\u001b[49m\u001b[38;5;241;43m.\u001b[39;49m\u001b[43mgroupby\u001b[49m\u001b[43m(\u001b[49m\u001b[38;5;124;43m\"\u001b[39;49m\u001b[38;5;124;43mcolumn\u001b[39;49m\u001b[38;5;124;43m\"\u001b[39;49m\u001b[43m)\u001b[49m\u001b[38;5;241m.\u001b[39msize()\u001b[38;5;241m.\u001b[39mreset_index(name\u001b[38;5;241m=\u001b[39m\u001b[38;5;124m\"\u001b[39m\u001b[38;5;124mchange_count\u001b[39m\u001b[38;5;124m\"\u001b[39m)\n\u001b[1;32m     83\u001b[0m report_tables[\u001b[38;5;124m\"\u001b[39m\u001b[38;5;124mcolumn_changes_summary\u001b[39m\u001b[38;5;124m\"\u001b[39m] \u001b[38;5;241m=\u001b[39m col_change_summary\n\u001b[1;32m     85\u001b[0m \u001b[38;5;66;03m# 4. Add changelog as a flat table\u001b[39;00m\n",
            "File \u001b[0;32m/opt/anaconda3/envs/dirty_birds_eda/lib/python3.10/site-packages/pandas/core/frame.py:9183\u001b[0m, in \u001b[0;36mDataFrame.groupby\u001b[0;34m(self, by, axis, level, as_index, sort, group_keys, observed, dropna)\u001b[0m\n\u001b[1;32m   9180\u001b[0m \u001b[38;5;28;01mif\u001b[39;00m level \u001b[38;5;129;01mis\u001b[39;00m \u001b[38;5;28;01mNone\u001b[39;00m \u001b[38;5;129;01mand\u001b[39;00m by \u001b[38;5;129;01mis\u001b[39;00m \u001b[38;5;28;01mNone\u001b[39;00m:\n\u001b[1;32m   9181\u001b[0m     \u001b[38;5;28;01mraise\u001b[39;00m \u001b[38;5;167;01mTypeError\u001b[39;00m(\u001b[38;5;124m\"\u001b[39m\u001b[38;5;124mYou have to supply one of \u001b[39m\u001b[38;5;124m'\u001b[39m\u001b[38;5;124mby\u001b[39m\u001b[38;5;124m'\u001b[39m\u001b[38;5;124m and \u001b[39m\u001b[38;5;124m'\u001b[39m\u001b[38;5;124mlevel\u001b[39m\u001b[38;5;124m'\u001b[39m\u001b[38;5;124m\"\u001b[39m)\n\u001b[0;32m-> 9183\u001b[0m \u001b[38;5;28;01mreturn\u001b[39;00m \u001b[43mDataFrameGroupBy\u001b[49m\u001b[43m(\u001b[49m\n\u001b[1;32m   9184\u001b[0m \u001b[43m    \u001b[49m\u001b[43mobj\u001b[49m\u001b[38;5;241;43m=\u001b[39;49m\u001b[38;5;28;43mself\u001b[39;49m\u001b[43m,\u001b[49m\n\u001b[1;32m   9185\u001b[0m \u001b[43m    \u001b[49m\u001b[43mkeys\u001b[49m\u001b[38;5;241;43m=\u001b[39;49m\u001b[43mby\u001b[49m\u001b[43m,\u001b[49m\n\u001b[1;32m   9186\u001b[0m \u001b[43m    \u001b[49m\u001b[43maxis\u001b[49m\u001b[38;5;241;43m=\u001b[39;49m\u001b[43maxis\u001b[49m\u001b[43m,\u001b[49m\n\u001b[1;32m   9187\u001b[0m \u001b[43m    \u001b[49m\u001b[43mlevel\u001b[49m\u001b[38;5;241;43m=\u001b[39;49m\u001b[43mlevel\u001b[49m\u001b[43m,\u001b[49m\n\u001b[1;32m   9188\u001b[0m \u001b[43m    \u001b[49m\u001b[43mas_index\u001b[49m\u001b[38;5;241;43m=\u001b[39;49m\u001b[43mas_index\u001b[49m\u001b[43m,\u001b[49m\n\u001b[1;32m   9189\u001b[0m \u001b[43m    \u001b[49m\u001b[43msort\u001b[49m\u001b[38;5;241;43m=\u001b[39;49m\u001b[43msort\u001b[49m\u001b[43m,\u001b[49m\n\u001b[1;32m   9190\u001b[0m \u001b[43m    \u001b[49m\u001b[43mgroup_keys\u001b[49m\u001b[38;5;241;43m=\u001b[39;49m\u001b[43mgroup_keys\u001b[49m\u001b[43m,\u001b[49m\n\u001b[1;32m   9191\u001b[0m \u001b[43m    \u001b[49m\u001b[43mobserved\u001b[49m\u001b[38;5;241;43m=\u001b[39;49m\u001b[43mobserved\u001b[49m\u001b[43m,\u001b[49m\n\u001b[1;32m   9192\u001b[0m \u001b[43m    \u001b[49m\u001b[43mdropna\u001b[49m\u001b[38;5;241;43m=\u001b[39;49m\u001b[43mdropna\u001b[49m\u001b[43m,\u001b[49m\n\u001b[1;32m   9193\u001b[0m \u001b[43m\u001b[49m\u001b[43m)\u001b[49m\n",
            "File \u001b[0;32m/opt/anaconda3/envs/dirty_birds_eda/lib/python3.10/site-packages/pandas/core/groupby/groupby.py:1329\u001b[0m, in \u001b[0;36mGroupBy.__init__\u001b[0;34m(self, obj, keys, axis, level, grouper, exclusions, selection, as_index, sort, group_keys, observed, dropna)\u001b[0m\n\u001b[1;32m   1326\u001b[0m \u001b[38;5;28mself\u001b[39m\u001b[38;5;241m.\u001b[39mdropna \u001b[38;5;241m=\u001b[39m dropna\n\u001b[1;32m   1328\u001b[0m \u001b[38;5;28;01mif\u001b[39;00m grouper \u001b[38;5;129;01mis\u001b[39;00m \u001b[38;5;28;01mNone\u001b[39;00m:\n\u001b[0;32m-> 1329\u001b[0m     grouper, exclusions, obj \u001b[38;5;241m=\u001b[39m \u001b[43mget_grouper\u001b[49m\u001b[43m(\u001b[49m\n\u001b[1;32m   1330\u001b[0m \u001b[43m        \u001b[49m\u001b[43mobj\u001b[49m\u001b[43m,\u001b[49m\n\u001b[1;32m   1331\u001b[0m \u001b[43m        \u001b[49m\u001b[43mkeys\u001b[49m\u001b[43m,\u001b[49m\n\u001b[1;32m   1332\u001b[0m \u001b[43m        \u001b[49m\u001b[43maxis\u001b[49m\u001b[38;5;241;43m=\u001b[39;49m\u001b[43maxis\u001b[49m\u001b[43m,\u001b[49m\n\u001b[1;32m   1333\u001b[0m \u001b[43m        \u001b[49m\u001b[43mlevel\u001b[49m\u001b[38;5;241;43m=\u001b[39;49m\u001b[43mlevel\u001b[49m\u001b[43m,\u001b[49m\n\u001b[1;32m   1334\u001b[0m \u001b[43m        \u001b[49m\u001b[43msort\u001b[49m\u001b[38;5;241;43m=\u001b[39;49m\u001b[43msort\u001b[49m\u001b[43m,\u001b[49m\n\u001b[1;32m   1335\u001b[0m \u001b[43m        \u001b[49m\u001b[43mobserved\u001b[49m\u001b[38;5;241;43m=\u001b[39;49m\u001b[38;5;28;43;01mFalse\u001b[39;49;00m\u001b[43m \u001b[49m\u001b[38;5;28;43;01mif\u001b[39;49;00m\u001b[43m \u001b[49m\u001b[43mobserved\u001b[49m\u001b[43m \u001b[49m\u001b[38;5;129;43;01mis\u001b[39;49;00m\u001b[43m \u001b[49m\u001b[43mlib\u001b[49m\u001b[38;5;241;43m.\u001b[39;49m\u001b[43mno_default\u001b[49m\u001b[43m \u001b[49m\u001b[38;5;28;43;01melse\u001b[39;49;00m\u001b[43m \u001b[49m\u001b[43mobserved\u001b[49m\u001b[43m,\u001b[49m\n\u001b[1;32m   1336\u001b[0m \u001b[43m        \u001b[49m\u001b[43mdropna\u001b[49m\u001b[38;5;241;43m=\u001b[39;49m\u001b[38;5;28;43mself\u001b[39;49m\u001b[38;5;241;43m.\u001b[39;49m\u001b[43mdropna\u001b[49m\u001b[43m,\u001b[49m\n\u001b[1;32m   1337\u001b[0m \u001b[43m    \u001b[49m\u001b[43m)\u001b[49m\n\u001b[1;32m   1339\u001b[0m \u001b[38;5;28;01mif\u001b[39;00m observed \u001b[38;5;129;01mis\u001b[39;00m lib\u001b[38;5;241m.\u001b[39mno_default:\n\u001b[1;32m   1340\u001b[0m     \u001b[38;5;28;01mif\u001b[39;00m \u001b[38;5;28many\u001b[39m(ping\u001b[38;5;241m.\u001b[39m_passed_categorical \u001b[38;5;28;01mfor\u001b[39;00m ping \u001b[38;5;129;01min\u001b[39;00m grouper\u001b[38;5;241m.\u001b[39mgroupings):\n",
            "File \u001b[0;32m/opt/anaconda3/envs/dirty_birds_eda/lib/python3.10/site-packages/pandas/core/groupby/grouper.py:1043\u001b[0m, in \u001b[0;36mget_grouper\u001b[0;34m(obj, key, axis, level, sort, observed, validate, dropna)\u001b[0m\n\u001b[1;32m   1041\u001b[0m         in_axis, level, gpr \u001b[38;5;241m=\u001b[39m \u001b[38;5;28;01mFalse\u001b[39;00m, gpr, \u001b[38;5;28;01mNone\u001b[39;00m\n\u001b[1;32m   1042\u001b[0m     \u001b[38;5;28;01melse\u001b[39;00m:\n\u001b[0;32m-> 1043\u001b[0m         \u001b[38;5;28;01mraise\u001b[39;00m \u001b[38;5;167;01mKeyError\u001b[39;00m(gpr)\n\u001b[1;32m   1044\u001b[0m \u001b[38;5;28;01melif\u001b[39;00m \u001b[38;5;28misinstance\u001b[39m(gpr, Grouper) \u001b[38;5;129;01mand\u001b[39;00m gpr\u001b[38;5;241m.\u001b[39mkey \u001b[38;5;129;01mis\u001b[39;00m \u001b[38;5;129;01mnot\u001b[39;00m \u001b[38;5;28;01mNone\u001b[39;00m:\n\u001b[1;32m   1045\u001b[0m     \u001b[38;5;66;03m# Add key to exclusions\u001b[39;00m\n\u001b[1;32m   1046\u001b[0m     exclusions\u001b[38;5;241m.\u001b[39madd(gpr\u001b[38;5;241m.\u001b[39mkey)\n",
            "\u001b[0;31mKeyError\u001b[0m: 'column'"
          ]
        }
      ],
      "source": [
        "if modules_cfg.get('normalization', {}).get('run', False):\n",
        "    norm_cfg_path = modules_cfg['normalization'].get('config_path', 'config/normalization_config_template.yaml')\n",
        "    norm_all = load_config(resolve(norm_cfg_path))\n",
        "    norm_cfg = norm_all.get('normalization', {})\n",
        "    print(\"Running normalization...\")\n",
        "    df = run_normalization_pipeline(df=df, config=norm_cfg, notebook=notebook_mode, run_id=run_id)\n",
        "else:\n",
        "    print(\"Skipping normalization.\")"
      ]
    },
    {
      "cell_type": "markdown",
      "metadata": {},
      "source": [
        "## M04 — Duplicates"
      ]
    },
    {
      "cell_type": "code",
      "execution_count": null,
      "metadata": {},
      "outputs": [],
      "source": [
        "if modules_cfg.get('duplicates', {}).get('run', False):\n",
        "    dup_cfg_path = modules_cfg['duplicates'].get('config_path', 'config/dups_config_template.yaml')\n",
        "    dup_all = load_config(resolve(dup_cfg_path))\n",
        "    dup_cfg = dup_all.get('duplicates', {})\n",
        "    print(\"Running duplicates...\")\n",
        "    df = run_duplicates_pipeline(df=df, config=dup_cfg, notebook=notebook_mode, run_id=run_id)\n",
        "else:\n",
        "    print(\"Skipping duplicates.\")"
      ]
    },
    {
      "cell_type": "markdown",
      "metadata": {},
      "source": [
        "## M05 — Outlier Detection"
      ]
    },
    {
      "cell_type": "code",
      "execution_count": null,
      "metadata": {},
      "outputs": [],
      "source": [
        "if modules_cfg.get('outlier_detection', {}).get('run', False):\n",
        "    det_cfg_path = modules_cfg['outlier_detection'].get('config_path', 'config/outlier_config_template.yaml')\n",
        "    det_all = load_config(resolve(det_cfg_path))\n",
        "    det_cfg = det_all.get('outlier_detection', {})\n",
        "    print(\"Running outlier detection...\")\n",
        "    df, detection_results = run_outlier_detection_pipeline(df=df, config=det_cfg, notebook=notebook_mode, run_id=run_id)\n",
        "else:\n",
        "    print(\"Skipping outlier detection.\")"
      ]
    },
    {
      "cell_type": "markdown",
      "metadata": {},
      "source": [
        "## M06 — Outlier Handling"
      ]
    },
    {
      "cell_type": "code",
      "execution_count": null,
      "metadata": {},
      "outputs": [],
      "source": [
        "if modules_cfg.get('outlier_handling', {}).get('run', False):\n",
        "    handle_cfg_path = modules_cfg['outlier_handling'].get('config_path', 'config/handling_config_template.yaml')\n",
        "    handle_all = load_config(resolve(handle_cfg_path))\n",
        "    handle_cfg = handle_all.get('outlier_handling', {})\n",
        "    print(\"Running outlier handling...\")\n",
        "    df = run_outlier_handling_pipeline(df=df, config=handle_cfg, notebook=notebook_mode, run_id=run_id)\n",
        "else:\n",
        "    print(\"Skipping outlier handling.\")"
      ]
    },
    {
      "cell_type": "markdown",
      "metadata": {},
      "source": [
        "## M07 — Imputation"
      ]
    },
    {
      "cell_type": "code",
      "execution_count": null,
      "metadata": {},
      "outputs": [],
      "source": [
        "if modules_cfg.get('imputation', {}).get('run', False):\n",
        "    imp_cfg_path = modules_cfg['imputation'].get('config_path', 'config/imputation_config_template.yaml')\n",
        "    imp_all = load_config(resolve(imp_cfg_path))\n",
        "    imp_cfg = imp_all.get('imputation', {})\n",
        "    print(\"Running imputation...\")\n",
        "    df = run_imputation_pipeline(df=df, config=imp_cfg, notebook=notebook_mode, run_id=run_id)\n",
        "else:\n",
        "    print(\"Skipping imputation.\")"
      ]
    },
    {
      "cell_type": "markdown",
      "metadata": {},
      "source": [
        "## M10 — Final Audit"
      ]
    },
    {
      "cell_type": "code",
      "execution_count": null,
      "metadata": {},
      "outputs": [],
      "source": [
        "if modules_cfg.get('final_audit', {}).get('run', False):\n",
        "    audit_cfg_path = modules_cfg['final_audit'].get('config_path', 'config/final_audit_config_template.yaml')\n",
        "    audit_all = load_config(resolve(audit_cfg_path))\n",
        "    audit_cfg = audit_all.get('final_audit', {})\n",
        "    print(\"Running final audit...\")\n",
        "    df = run_final_audit_pipeline(df=df, config=audit_cfg, notebook=notebook_mode, run_id=run_id)\n",
        "else:\n",
        "    print(\"Skipping final audit.\")"
      ]
    },
    {
      "cell_type": "code",
      "execution_count": null,
      "metadata": {},
      "outputs": [],
      "source": [
        "# Preview final dataframe if available\n",
        "try:\n",
        "    display(df.head())\n",
        "except Exception as e:\n",
        "    print(\"No dataframe to display or display failed:\", e)"
      ]
    }
  ],
  "metadata": {
    "kernelspec": {
      "display_name": "dirty_birds_eda",
      "language": "python",
      "name": "python3"
    },
    "language_info": {
      "codemirror_mode": {
        "name": "ipython",
        "version": 3
      },
      "file_extension": ".py",
      "mimetype": "text/x-python",
      "name": "python",
      "nbconvert_exporter": "python",
      "pygments_lexer": "ipython3",
      "version": "3.10.18"
    }
  },
  "nbformat": 4,
  "nbformat_minor": 5
}
